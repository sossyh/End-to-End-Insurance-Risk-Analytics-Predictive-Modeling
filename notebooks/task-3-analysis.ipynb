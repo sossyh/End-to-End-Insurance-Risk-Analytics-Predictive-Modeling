{
 "cells": [
  {
   "cell_type": "code",
   "execution_count": 8,
   "id": "c7ccf64b",
   "metadata": {},
   "outputs": [
    {
     "name": "stderr",
     "output_type": "stream",
     "text": [
      "C:\\Users\\soswo\\AppData\\Local\\Temp\\ipykernel_18772\\233518956.py:11: DtypeWarning: Columns (32,37) have mixed types. Specify dtype option on import or set low_memory=False.\n",
      "  data = pd.read_csv(\"../data/raw/MachineLearningRating_v3.txt\", sep=\"|\")\n"
     ]
    }
   ],
   "source": [
    "# In your Jupyter Notebook cell:\n",
    "import sys\n",
    "import os\n",
    "import pandas as pd\n",
    "sys.path.append(os.path.abspath(\"../src\"))  # Adjust path as needed\n",
    "\n",
    "# Now try importing again\n",
    "from insurance_hypothesis_testing import InsuranceHypothesisTester\n",
    "\n",
    "# Load data and proceed with analysis\n",
    "data = pd.read_csv(\"../data/raw/MachineLearningRating_v3.txt\", sep=\"|\")\n",
    "tester = InsuranceHypothesisTester(data)\n",
    "# Continue with your analysis..."
   ]
  }
 ],
 "metadata": {
  "kernelspec": {
   "display_name": "venv",
   "language": "python",
   "name": "python3"
  },
  "language_info": {
   "codemirror_mode": {
    "name": "ipython",
    "version": 3
   },
   "file_extension": ".py",
   "mimetype": "text/x-python",
   "name": "python",
   "nbconvert_exporter": "python",
   "pygments_lexer": "ipython3",
   "version": "3.12.7"
  }
 },
 "nbformat": 4,
 "nbformat_minor": 5
}
